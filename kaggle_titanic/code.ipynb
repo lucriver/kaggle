{
 "cells": [
  {
   "cell_type": "code",
   "execution_count": 25,
   "metadata": {},
   "outputs": [],
   "source": [
    "import pandas as pd\n",
    "import numpy as np\n",
    "import time\n",
    "import sys\n",
    "sys.path.append('..')\n",
    "from utilities.utils import Util\n",
    "from importlib import reload\n",
    "import torch\n",
    "import torch.nn as nn\n",
    "import sklearn\n",
    "from sklearn.preprocessing import LabelEncoder, minmax_scale"
   ]
  },
  {
   "cell_type": "code",
   "execution_count": 26,
   "metadata": {},
   "outputs": [],
   "source": [
    "# define our dataframes\n",
    "df_train = pd.read_csv('./data/train.csv')\n",
    "df_test = pd.read_csv('./data/test.csv')"
   ]
  },
  {
   "cell_type": "code",
   "execution_count": 27,
   "metadata": {},
   "outputs": [
    {
     "data": {
      "text/plain": [
       "PassengerId                          1\n",
       "Survived                             0\n",
       "Pclass                               3\n",
       "Name           Braund, Mr. Owen Harris\n",
       "Sex                               male\n",
       "Age                               22.0\n",
       "SibSp                                1\n",
       "Parch                                0\n",
       "Ticket                       A/5 21171\n",
       "Fare                              7.25\n",
       "Cabin                              NaN\n",
       "Embarked                             S\n",
       "Name: 0, dtype: object"
      ]
     },
     "execution_count": 27,
     "metadata": {},
     "output_type": "execute_result"
    }
   ],
   "source": [
    "# check features we are provided\n",
    "sample = df_train.iloc[0]\n",
    "sample"
   ]
  },
  {
   "cell_type": "code",
   "execution_count": 28,
   "metadata": {},
   "outputs": [
    {
     "name": "stdout",
     "output_type": "stream",
     "text": [
      "Dropped ['PassengerId', 'Name', 'Ticket']\n"
     ]
    }
   ],
   "source": [
    "# lets drop some features we will for sure not need\n",
    "drop_columns = ['PassengerId', 'Name', 'Ticket']\n",
    "\n",
    "# drop the features we don't need\n",
    "df_train.drop(labels=drop_columns,axis=1,inplace=True)\n",
    "df_test.drop(labels=drop_columns,axis=1,inplace=True)\n",
    "print(f\"Dropped {drop_columns}\")"
   ]
  },
  {
   "cell_type": "code",
   "execution_count": 29,
   "metadata": {},
   "outputs": [
    {
     "name": "stdout",
     "output_type": "stream",
     "text": [
      "Train Samples: 891\n",
      "Test Samples: 418\n"
     ]
    }
   ],
   "source": [
    "# Get current number of data points\n",
    "sample_ct_train = len(df_train)\n",
    "sample_ct_test = len(df_test)\n",
    "print(f\"Train Samples: {sample_ct_train}\")\n",
    "print(f\"Test Samples: {sample_ct_test}\")"
   ]
  },
  {
   "cell_type": "code",
   "execution_count": 30,
   "metadata": {},
   "outputs": [
    {
     "name": "stdout",
     "output_type": "stream",
     "text": [
      "Age: 0.1987%\n",
      "Cabin: 0.771%\n",
      "Embarked: 0.0022%\n"
     ]
    }
   ],
   "source": [
    "# for our remaining features, lets determine which features have NaN fields in the data\n",
    "NaN_features = Util.NaN.get_nan_features_dict(df_train)\n",
    "for feature in NaN_features:\n",
    "    print(f\"{feature}: {NaN_features[feature]}%\")"
   ]
  },
  {
   "cell_type": "code",
   "execution_count": 31,
   "metadata": {},
   "outputs": [
    {
     "name": "stdout",
     "output_type": "stream",
     "text": [
      "Dropping all samples with feature \"Embarked\" == NaN from table\n"
     ]
    },
    {
     "data": {
      "text/html": [
       "<div>\n",
       "<style scoped>\n",
       "    .dataframe tbody tr th:only-of-type {\n",
       "        vertical-align: middle;\n",
       "    }\n",
       "\n",
       "    .dataframe tbody tr th {\n",
       "        vertical-align: top;\n",
       "    }\n",
       "\n",
       "    .dataframe thead th {\n",
       "        text-align: right;\n",
       "    }\n",
       "</style>\n",
       "<table border=\"1\" class=\"dataframe\">\n",
       "  <thead>\n",
       "    <tr style=\"text-align: right;\">\n",
       "      <th></th>\n",
       "      <th>Survived</th>\n",
       "      <th>Pclass</th>\n",
       "      <th>Sex</th>\n",
       "      <th>Age</th>\n",
       "      <th>SibSp</th>\n",
       "      <th>Parch</th>\n",
       "      <th>Fare</th>\n",
       "      <th>Cabin</th>\n",
       "      <th>Embarked</th>\n",
       "    </tr>\n",
       "  </thead>\n",
       "  <tbody>\n",
       "    <tr>\n",
       "      <th>0</th>\n",
       "      <td>0</td>\n",
       "      <td>3</td>\n",
       "      <td>male</td>\n",
       "      <td>22.0</td>\n",
       "      <td>1</td>\n",
       "      <td>0</td>\n",
       "      <td>7.25</td>\n",
       "      <td>NaN</td>\n",
       "      <td>S</td>\n",
       "    </tr>\n",
       "  </tbody>\n",
       "</table>\n",
       "</div>"
      ],
      "text/plain": [
       "   Survived  Pclass   Sex   Age  SibSp  Parch  Fare Cabin Embarked\n",
       "0         0       3  male  22.0      1      0  7.25   NaN        S"
      ]
     },
     "execution_count": 31,
     "metadata": {},
     "output_type": "execute_result"
    }
   ],
   "source": [
    "# remove the NaN datapoints from the dataset\n",
    "removal_thresh = 0.01\n",
    "for NaN_feature, percentage in NaN_features.items():\n",
    "    if percentage > removal_thresh:\n",
    "        continue\n",
    "    else:\n",
    "        print(f\"Dropping all samples with feature \\\"{NaN_feature}\\\" == NaN from table\")\n",
    "        df_train.dropna(axis='index',subset=NaN_feature,inplace=True)\n",
    "\n",
    "df_train.head(1)"
   ]
  },
  {
   "cell_type": "code",
   "execution_count": 32,
   "metadata": {},
   "outputs": [
    {
     "name": "stdout",
     "output_type": "stream",
     "text": [
      "Dropping Cabin from dataframe\n"
     ]
    },
    {
     "data": {
      "text/html": [
       "<div>\n",
       "<style scoped>\n",
       "    .dataframe tbody tr th:only-of-type {\n",
       "        vertical-align: middle;\n",
       "    }\n",
       "\n",
       "    .dataframe tbody tr th {\n",
       "        vertical-align: top;\n",
       "    }\n",
       "\n",
       "    .dataframe thead th {\n",
       "        text-align: right;\n",
       "    }\n",
       "</style>\n",
       "<table border=\"1\" class=\"dataframe\">\n",
       "  <thead>\n",
       "    <tr style=\"text-align: right;\">\n",
       "      <th></th>\n",
       "      <th>Survived</th>\n",
       "      <th>Pclass</th>\n",
       "      <th>Sex</th>\n",
       "      <th>Age</th>\n",
       "      <th>SibSp</th>\n",
       "      <th>Parch</th>\n",
       "      <th>Fare</th>\n",
       "      <th>Embarked</th>\n",
       "    </tr>\n",
       "  </thead>\n",
       "  <tbody>\n",
       "    <tr>\n",
       "      <th>0</th>\n",
       "      <td>0</td>\n",
       "      <td>3</td>\n",
       "      <td>male</td>\n",
       "      <td>22.0</td>\n",
       "      <td>1</td>\n",
       "      <td>0</td>\n",
       "      <td>7.25</td>\n",
       "      <td>S</td>\n",
       "    </tr>\n",
       "  </tbody>\n",
       "</table>\n",
       "</div>"
      ],
      "text/plain": [
       "   Survived  Pclass   Sex   Age  SibSp  Parch  Fare Embarked\n",
       "0         0       3  male  22.0      1      0  7.25        S"
      ]
     },
     "execution_count": 32,
     "metadata": {},
     "output_type": "execute_result"
    }
   ],
   "source": [
    "# drop the column for cabin room id\n",
    "print(f\"Dropping {'Cabin'} from dataframe\")\n",
    "df_train.drop(axis=1, columns=['Cabin'], inplace=True)\n",
    "sample = df_train.head(1)\n",
    "sample"
   ]
  },
  {
   "cell_type": "code",
   "execution_count": 33,
   "metadata": {},
   "outputs": [
    {
     "data": {
      "text/html": [
       "<div>\n",
       "<style scoped>\n",
       "    .dataframe tbody tr th:only-of-type {\n",
       "        vertical-align: middle;\n",
       "    }\n",
       "\n",
       "    .dataframe tbody tr th {\n",
       "        vertical-align: top;\n",
       "    }\n",
       "\n",
       "    .dataframe thead th {\n",
       "        text-align: right;\n",
       "    }\n",
       "</style>\n",
       "<table border=\"1\" class=\"dataframe\">\n",
       "  <thead>\n",
       "    <tr style=\"text-align: right;\">\n",
       "      <th></th>\n",
       "      <th>Survived</th>\n",
       "      <th>Pclass</th>\n",
       "      <th>Sex</th>\n",
       "      <th>Age</th>\n",
       "      <th>SibSp</th>\n",
       "      <th>Parch</th>\n",
       "      <th>Fare</th>\n",
       "      <th>Embarked</th>\n",
       "    </tr>\n",
       "  </thead>\n",
       "  <tbody>\n",
       "    <tr>\n",
       "      <th>0</th>\n",
       "      <td>0</td>\n",
       "      <td>2</td>\n",
       "      <td>1</td>\n",
       "      <td>22.0</td>\n",
       "      <td>1</td>\n",
       "      <td>0</td>\n",
       "      <td>7.25</td>\n",
       "      <td>2</td>\n",
       "    </tr>\n",
       "  </tbody>\n",
       "</table>\n",
       "</div>"
      ],
      "text/plain": [
       "   Survived  Pclass  Sex   Age  SibSp  Parch  Fare  Embarked\n",
       "0         0       2    1  22.0      1      0  7.25         2"
      ]
     },
     "execution_count": 33,
     "metadata": {},
     "output_type": "execute_result"
    }
   ],
   "source": [
    "# lets encode our features\n",
    "encoder = LabelEncoder()\n",
    "df_train['Sex'] = encoder.fit_transform(df_train['Sex'])\n",
    "df_train['Pclass'] = encoder.fit_transform(df_train['Pclass'])\n",
    "df_train['Embarked'] = encoder.fit_transform(df_train['Embarked'])\n",
    "sample = df_train.head(1)\n",
    "sample"
   ]
  },
  {
   "cell_type": "code",
   "execution_count": 34,
   "metadata": {},
   "outputs": [
    {
     "name": "stdout",
     "output_type": "stream",
     "text": [
      "Not normalizing feature: Age, found field containing NaN.\n"
     ]
    },
    {
     "data": {
      "text/html": [
       "<div>\n",
       "<style scoped>\n",
       "    .dataframe tbody tr th:only-of-type {\n",
       "        vertical-align: middle;\n",
       "    }\n",
       "\n",
       "    .dataframe tbody tr th {\n",
       "        vertical-align: top;\n",
       "    }\n",
       "\n",
       "    .dataframe thead th {\n",
       "        text-align: right;\n",
       "    }\n",
       "</style>\n",
       "<table border=\"1\" class=\"dataframe\">\n",
       "  <thead>\n",
       "    <tr style=\"text-align: right;\">\n",
       "      <th></th>\n",
       "      <th>Survived</th>\n",
       "      <th>Pclass</th>\n",
       "      <th>Sex</th>\n",
       "      <th>Age</th>\n",
       "      <th>SibSp</th>\n",
       "      <th>Parch</th>\n",
       "      <th>Fare</th>\n",
       "      <th>Embarked</th>\n",
       "    </tr>\n",
       "  </thead>\n",
       "  <tbody>\n",
       "    <tr>\n",
       "      <th>0</th>\n",
       "      <td>0</td>\n",
       "      <td>2</td>\n",
       "      <td>1</td>\n",
       "      <td>22.0</td>\n",
       "      <td>0.125</td>\n",
       "      <td>0.0</td>\n",
       "      <td>0.014151</td>\n",
       "      <td>2</td>\n",
       "    </tr>\n",
       "    <tr>\n",
       "      <th>1</th>\n",
       "      <td>1</td>\n",
       "      <td>0</td>\n",
       "      <td>0</td>\n",
       "      <td>38.0</td>\n",
       "      <td>0.125</td>\n",
       "      <td>0.0</td>\n",
       "      <td>0.139136</td>\n",
       "      <td>0</td>\n",
       "    </tr>\n",
       "  </tbody>\n",
       "</table>\n",
       "</div>"
      ],
      "text/plain": [
       "   Survived  Pclass  Sex   Age  SibSp  Parch      Fare  Embarked\n",
       "0         0       2    1  22.0  0.125    0.0  0.014151         2\n",
       "1         1       0    0  38.0  0.125    0.0  0.139136         0"
      ]
     },
     "execution_count": 34,
     "metadata": {},
     "output_type": "execute_result"
    }
   ],
   "source": [
    "# lets normalize our data\n",
    "normalize_features = ['Age', 'SibSp', 'Parch', 'Fare']\n",
    "for feature in normalize_features:\n",
    "    if Util.NaN.contains_NaN(df_train,feature):\n",
    "        print(f\"Not normalizing feature: {feature}, found field containing NaN.\")\n",
    "        continue\n",
    "\n",
    "    min_val, max_val = df_train[feature].min(), df_train[feature].max()\n",
    "    normalized_values = minmax_scale(df_train[feature],feature_range=(0,1))\n",
    "    df_train[feature] = normalized_values\n",
    "\n",
    "sample = df_train.head(2)\n",
    "sample"
   ]
  },
  {
   "cell_type": "code",
   "execution_count": 10,
   "metadata": {},
   "outputs": [
    {
     "data": {
      "text/html": [
       "<div>\n",
       "<style scoped>\n",
       "    .dataframe tbody tr th:only-of-type {\n",
       "        vertical-align: middle;\n",
       "    }\n",
       "\n",
       "    .dataframe tbody tr th {\n",
       "        vertical-align: top;\n",
       "    }\n",
       "\n",
       "    .dataframe thead th {\n",
       "        text-align: right;\n",
       "    }\n",
       "</style>\n",
       "<table border=\"1\" class=\"dataframe\">\n",
       "  <thead>\n",
       "    <tr style=\"text-align: right;\">\n",
       "      <th></th>\n",
       "      <th>Survived</th>\n",
       "      <th>Pclass</th>\n",
       "      <th>Sex</th>\n",
       "      <th>Age</th>\n",
       "      <th>SibSp</th>\n",
       "      <th>Parch</th>\n",
       "      <th>Fare</th>\n",
       "      <th>Embarked</th>\n",
       "    </tr>\n",
       "  </thead>\n",
       "  <tbody>\n",
       "    <tr>\n",
       "      <th>0</th>\n",
       "      <td>0</td>\n",
       "      <td>3</td>\n",
       "      <td>male</td>\n",
       "      <td>22.0</td>\n",
       "      <td>1</td>\n",
       "      <td>0</td>\n",
       "      <td>7.25</td>\n",
       "      <td>S</td>\n",
       "    </tr>\n",
       "  </tbody>\n",
       "</table>\n",
       "</div>"
      ],
      "text/plain": [
       "   Survived  Pclass   Sex   Age  SibSp  Parch  Fare Embarked\n",
       "0         0       3  male  22.0      1      0  7.25        S"
      ]
     },
     "execution_count": 10,
     "metadata": {},
     "output_type": "execute_result"
    }
   ],
   "source": [
    "df_train_dropped_nan_ages = df_train.dropna()"
   ]
  },
  {
   "cell_type": "code",
   "execution_count": 156,
   "metadata": {},
   "outputs": [],
   "source": [
    "class Deep(nn.Module):\n",
    "    def __init__(self):\n",
    "        super().__init__()\n",
    "        self.layer1 = nn.Linear(8, 60)\n",
    "        self.act1 = nn.ReLU()\n",
    "        self.layer2 = nn.Linear(60, 60)\n",
    "        self.act2 = nn.ReLU()\n",
    "        self.layer3 = nn.Linear(60, 60)\n",
    "        self.act3 = nn.ReLU()\n",
    "        self.output = nn.Linear(60, 1)\n",
    "        self.sigmoid = nn.Sigmoid()\n",
    " \n",
    "    def forward(self, x):\n",
    "        x = self.act1.forward(self.layer1.forward(x))\n",
    "        x = self.act2.forward(self.layer2.forward(x))\n",
    "        x = self.act3.forward(self.layer3.forward(x))\n",
    "        x = self.sigmoid.forward(self.output.forward(x))\n",
    "        return x"
   ]
  },
  {
   "cell_type": "code",
   "execution_count": null,
   "metadata": {},
   "outputs": [],
   "source": []
  },
  {
   "cell_type": "code",
   "execution_count": 157,
   "metadata": {},
   "outputs": [
    {
     "name": "stdout",
     "output_type": "stream",
     "text": [
      "tensor([0.4825], grad_fn=<SigmoidBackward0>)\n",
      "tensor([0.4723], grad_fn=<SigmoidBackward0>)\n",
      "tensor([0.4796], grad_fn=<SigmoidBackward0>)\n",
      "tensor([0.4851], grad_fn=<SigmoidBackward0>)\n",
      "tensor([0.4816], grad_fn=<SigmoidBackward0>)\n",
      "tensor([0.4750], grad_fn=<SigmoidBackward0>)\n",
      "tensor([0.4705], grad_fn=<SigmoidBackward0>)\n",
      "tensor([0.4800], grad_fn=<SigmoidBackward0>)\n",
      "tensor([0.4791], grad_fn=<SigmoidBackward0>)\n",
      "tensor([0.4722], grad_fn=<SigmoidBackward0>)\n",
      "tensor([0.4723], grad_fn=<SigmoidBackward0>)\n",
      "tensor([0.4780], grad_fn=<SigmoidBackward0>)\n",
      "tensor([0.4781], grad_fn=<SigmoidBackward0>)\n",
      "tensor([0.4729], grad_fn=<SigmoidBackward0>)\n",
      "tensor([0.4780], grad_fn=<SigmoidBackward0>)\n",
      "tensor([0.4706], grad_fn=<SigmoidBackward0>)\n",
      "tensor([0.4723], grad_fn=<SigmoidBackward0>)\n",
      "tensor([0.4725], grad_fn=<SigmoidBackward0>)\n",
      "tensor([0.4721], grad_fn=<SigmoidBackward0>)\n",
      "tensor([0.4723], grad_fn=<SigmoidBackward0>)\n",
      "tensor([0.4800], grad_fn=<SigmoidBackward0>)\n",
      "tensor([0.4841], grad_fn=<SigmoidBackward0>)\n",
      "tensor([0.4733], grad_fn=<SigmoidBackward0>)\n",
      "tensor([0.4783], grad_fn=<SigmoidBackward0>)\n",
      "tensor([0.4807], grad_fn=<SigmoidBackward0>)\n"
     ]
    }
   ],
   "source": [
    "myNet = Deep()\n",
    "for _ in range(25):\n",
    "    sample = df_train_dropped_indexes_age.sample().values[0].astype(np.float32)\n",
    "    tensor = torch.tensor(sample)\n",
    "    print(myNet.forward(tensor))"
   ]
  },
  {
   "cell_type": "code",
   "execution_count": null,
   "metadata": {},
   "outputs": [],
   "source": []
  }
 ],
 "metadata": {
  "kernelspec": {
   "display_name": "env",
   "language": "python",
   "name": "python3"
  },
  "language_info": {
   "codemirror_mode": {
    "name": "ipython",
    "version": 3
   },
   "file_extension": ".py",
   "mimetype": "text/x-python",
   "name": "python",
   "nbconvert_exporter": "python",
   "pygments_lexer": "ipython3",
   "version": "3.10.12"
  },
  "orig_nbformat": 4
 },
 "nbformat": 4,
 "nbformat_minor": 2
}
